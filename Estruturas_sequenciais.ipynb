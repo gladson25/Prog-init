{
  "nbformat": 4,
  "nbformat_minor": 0,
  "metadata": {
    "colab": {
      "name": "Estruturas_sequenciais.ipynb",
      "provenance": [],
      "collapsed_sections": [],
      "authorship_tag": "ABX9TyOmpJubYQM4uILFkp+dl5BQ",
      "include_colab_link": true
    },
    "kernelspec": {
      "name": "python3",
      "display_name": "Python 3"
    },
    "language_info": {
      "name": "python"
    }
  },
  "cells": [
    {
      "cell_type": "markdown",
      "metadata": {
        "id": "view-in-github",
        "colab_type": "text"
      },
      "source": [
        "<a href=\"https://colab.research.google.com/github/gladson25/Prog-init/blob/main/Estruturas_sequenciais.ipynb\" target=\"_parent\"><img src=\"https://colab.research.google.com/assets/colab-badge.svg\" alt=\"Open In Colab\"/></a>"
      ]
    },
    {
      "cell_type": "code",
      "execution_count": 1,
      "metadata": {
        "colab": {
          "base_uri": "https://localhost:8080/"
        },
        "id": "7T74Q-nYrMVH",
        "outputId": "7fa7be16-a0c7-4f12-a775-97941f9c9cb7"
      },
      "outputs": [
        {
          "output_type": "stream",
          "name": "stdout",
          "text": [
            "Olá mundo!\n"
          ]
        }
      ],
      "source": [
        "#Faça um Programa que mostre a mensagem \"Alo mundo\" na tela.\n",
        "print(\"Olá mundo!\")"
      ]
    },
    {
      "cell_type": "code",
      "source": [
        "#Faça um Programa que peça um número e então mostre a mensagem O número informado foi [número].\n",
        "n = int(input('Informe um número: '))\n",
        "print(f'O número informado foi:',n)"
      ],
      "metadata": {
        "colab": {
          "base_uri": "https://localhost:8080/"
        },
        "id": "w7oYh-ghru9y",
        "outputId": "253db7c9-b584-47c5-dea7-b4945bdf731d"
      },
      "execution_count": 3,
      "outputs": [
        {
          "output_type": "stream",
          "name": "stdout",
          "text": [
            "Informe um número: 25\n",
            "O número informado foi: 25\n"
          ]
        }
      ]
    },
    {
      "cell_type": "code",
      "source": [
        "#Faça um Programa que peça dois números e imprima a soma.\n",
        "n1 = int(input('Informe o primeiro número:'))\n",
        "n2 = int(input('Informe o segundo número:'))\n",
        "soma = n1+n2\n",
        "print(f\"A soma entre {n1} e {n2} é: {soma}\")"
      ],
      "metadata": {
        "colab": {
          "base_uri": "https://localhost:8080/"
        },
        "id": "0MOWd-5msDQa",
        "outputId": "af13e514-919c-4534-cf83-bb501a92b390"
      },
      "execution_count": 4,
      "outputs": [
        {
          "output_type": "stream",
          "name": "stdout",
          "text": [
            "Informe o primeiro número:25\n",
            "Informe o segundo número:10\n",
            "A soma entre 25 e 10 é: 35\n"
          ]
        }
      ]
    },
    {
      "cell_type": "code",
      "source": [
        "#Faça um Programa que peça as 4 notas bimestrais e mostre a média.\n",
        "n1b1 = float(input('Informe a primeira nova do B1º: '))\n",
        "n2b1 = float(input('Informe a segunda nova do B1º: '))\n",
        "n1b2 = float(input('Informe a primeira nova do B2º: '))\n",
        "n2b2 = float(input('Informe a segunda nova do B2º: '))\n",
        "medial = (n1b1 + n2b1 + n2b2 + n2b2) /4\n",
        "print(f\"As notas \\n 1 - B1 {n1b1} \\n 2 - B1 {n2b1} \\n 1 - B2 {n1b2} \\n 2 - B2 {n2b2} \\n média {medial}\")\n"
      ],
      "metadata": {
        "colab": {
          "base_uri": "https://localhost:8080/"
        },
        "id": "eF0BKZvgshhl",
        "outputId": "2845748c-e22a-4bdb-b05c-c4a01bfc9af7"
      },
      "execution_count": 12,
      "outputs": [
        {
          "output_type": "stream",
          "name": "stdout",
          "text": [
            "Informe a primeira nova do B1º: 9\n",
            "Informe a segunda nova do B1º: 8\n",
            "Informe a primeira nova do B2º: 7.5\n",
            "Informe a segunda nova do B2º: 9\n",
            "As notas \n",
            " 1 - B1 9.0 \n",
            " 2 - B1 8.0 \n",
            " 1 - B2 7.5 \n",
            " 2 - B2 9.0 \n",
            " média 8.75\n"
          ]
        }
      ]
    },
    {
      "cell_type": "code",
      "source": [
        "#Faça um Programa que converta metros para centímetros.\n",
        "dist = float(input('Informe uma distância em metros: '))\n",
        "cnvrt = dist * 100\n",
        "print(f'O valor de {dist}m convertido para centímetros é: {cnvrt}cm')\n"
      ],
      "metadata": {
        "colab": {
          "base_uri": "https://localhost:8080/"
        },
        "id": "mpup-e9JusoX",
        "outputId": "ff52fa62-d73e-4e97-f15b-c1fa5d6f48f3"
      },
      "execution_count": 14,
      "outputs": [
        {
          "output_type": "stream",
          "name": "stdout",
          "text": [
            "Informe uma distância em metros: 25\n",
            "O valor de 25.0m convertido para centímetros é: 2500.0cm\n"
          ]
        }
      ]
    },
    {
      "cell_type": "code",
      "source": [
        "#Faça um Programa que peça o raio de um círculo, calcule e mostre sua área.\n",
        "r = float(input('Informe o raio da circunferência: '))\n",
        "calc = 3.14 * r**2\n",
        "print(f\"A área do círculo com raio {r} é {calc}\")"
      ],
      "metadata": {
        "colab": {
          "base_uri": "https://localhost:8080/"
        },
        "id": "dCsmCvkpwRrp",
        "outputId": "e763c0f9-1606-4537-ffdb-98e470361c9d"
      },
      "execution_count": 15,
      "outputs": [
        {
          "output_type": "stream",
          "name": "stdout",
          "text": [
            "Informe o raio da circunferência: 5\n",
            "A área do círculo com raio 5.0 é 78.5\n"
          ]
        }
      ]
    },
    {
      "cell_type": "code",
      "source": [
        "#Faça um Programa que calcule a área de um quadrado, em seguida mostre o dobro desta área para o usuário.\n",
        "lquad = int(input(\"Informe o lado do quadrado em metros: \"))\n",
        "a = lquad**2\n",
        "print(f'A área do quadrado com lados {lquad} é :{a}m² e o dobro desta área é {a*2}m².')"
      ],
      "metadata": {
        "colab": {
          "base_uri": "https://localhost:8080/"
        },
        "id": "za6QgwAqxX6h",
        "outputId": "a246a9f4-faa3-4fc5-a20b-d0fce8810963"
      },
      "execution_count": 18,
      "outputs": [
        {
          "output_type": "stream",
          "name": "stdout",
          "text": [
            "Informe o lado do quadrado em metros: 10\n",
            "A área do quadrado com lados 10 é :100m² e o dobro desta área é 200m².\n"
          ]
        }
      ]
    },
    {
      "cell_type": "code",
      "source": [
        "#Faça um Programa que pergunte quanto você ganha por hora e o número de horas trabalhadas no mês. Calcule e mostre o total do seu salário no referido mês.\n",
        "salh = float(input('Informe o valor por hora que você recebe: '))\n",
        "hrtrab = int(input('Informe a quantidade de horas trabalhadas: '))\n",
        "stotal = salh*hrtrab\n",
        "print(f'O salário de horas trabalhadas:{hrtrab} e valor por horas {salh} é {stotal}')"
      ],
      "metadata": {
        "colab": {
          "base_uri": "https://localhost:8080/"
        },
        "id": "FLMOA3gvzE6H",
        "outputId": "f207321d-3898-48d3-e39c-c4839fd091a3"
      },
      "execution_count": 24,
      "outputs": [
        {
          "output_type": "stream",
          "name": "stdout",
          "text": [
            "Informe o valor por hora que você recebe: 18\n",
            "Informe a quantidade de horas trabalhadas: 120\n",
            "O salário de horas trabalhadas:120 e valor por horas 18.0 é 2160.0\n"
          ]
        }
      ]
    },
    {
      "cell_type": "code",
      "source": [
        "#Faça um Programa que peça a temperatura em graus Fahrenheit, transforme e mostre a temperatura em graus Celsius.\n",
        "#C = 5 * ((F-32) / 9).\n",
        "tf = float(input('Informe a temperatura em Fahrenheit:'))\n",
        "caltemp = 5* ((tf-32)/9)\n",
        "print(f'A temperatura em Fahrenheit {tf} convertida para celsius é: {caltemp}')"
      ],
      "metadata": {
        "colab": {
          "base_uri": "https://localhost:8080/"
        },
        "id": "4N1dYwzV0YNg",
        "outputId": "cb792eb2-2691-4e9a-f337-37cf46eb05da"
      },
      "execution_count": 28,
      "outputs": [
        {
          "output_type": "stream",
          "name": "stdout",
          "text": [
            "Informe a temperatura em Fahrenheit:96\n",
            "A temperatura em Fahrenheit 96.0 convertida para celsius é: 35.55555555555556\n"
          ]
        }
      ]
    },
    {
      "cell_type": "code",
      "source": [
        "#Faça um Programa que peça a temperatura em graus Celsius, transforme e mostre em graus Fahrenheit.\n",
        "tc = float(input('Informe a temperatura em Celsius:'))\n",
        "caltemp = (tc *9/5) + 32\n",
        "print(f'A temperatura em Celsius {tc} convertida para Fahrenheit é: {caltemp}')"
      ],
      "metadata": {
        "colab": {
          "base_uri": "https://localhost:8080/"
        },
        "id": "KUWt538g1NOI",
        "outputId": "9d559a51-3c35-4853-a728-2ca123763e48"
      },
      "execution_count": 29,
      "outputs": [
        {
          "output_type": "stream",
          "name": "stdout",
          "text": [
            "Informe a temperatura em Celsius:36\n",
            "A temperatura em Celsius 36.0 convertida para Fahrenheit é: 96.8\n"
          ]
        }
      ]
    }
  ]
}