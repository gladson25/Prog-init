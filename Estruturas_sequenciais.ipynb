{
  "nbformat": 4,
  "nbformat_minor": 0,
  "metadata": {
    "colab": {
      "name": "Estruturas_sequenciais.ipynb",
      "provenance": [],
      "collapsed_sections": [],
      "authorship_tag": "ABX9TyOmpJubYQM4uILFkp+dl5BQ",
      "include_colab_link": true
    },
    "kernelspec": {
      "name": "python3",
      "display_name": "Python 3"
    },
    "language_info": {
      "name": "python"
    }
  },
  "cells": [
    {
      "cell_type": "markdown",
      "metadata": {
        "id": "view-in-github",
        "colab_type": "text"
      },
      "source": [
        "<a href=\"https://colab.research.google.com/github/gladson25/Prog-init/blob/main/Estruturas_sequenciais.ipynb\" target=\"_parent\"><img src=\"https://colab.research.google.com/assets/colab-badge.svg\" alt=\"Open In Colab\"/></a>"
      ]
    },
    {
      "cell_type": "code",
      "execution_count": null,
      "metadata": {
        "id": "7T74Q-nYrMVH"
      },
      "outputs": [],
      "source": [
        "#Faça um Programa que mostre a mensagem \"Alo mundo\" na tela.\n",
        "print(\"Olá mundo!\")"
      ]
    },
    {
      "cell_type": "code",
      "source": [
        "#Faça um Programa que peça um número e então mostre a mensagem O número informado foi [número].\n",
        "n = int(input('Informe um número: '))\n",
        "print(f'O número informado foi:',n)"
      ],
      "metadata": {
        "id": "w7oYh-ghru9y"
      },
      "execution_count": null,
      "outputs": []
    },
    {
      "cell_type": "code",
      "source": [
        "#Faça um Programa que peça dois números e imprima a soma.\n",
        "n1 = int(input('Informe o primeiro número:'))\n",
        "n2 = int(input('Informe o segundo número:'))\n",
        "soma = n1+n2\n",
        "print(f\"A soma entre {n1} e {n2} é: {soma}\")"
      ],
      "metadata": {
        "id": "0MOWd-5msDQa"
      },
      "execution_count": null,
      "outputs": []
    },
    {
      "cell_type": "code",
      "source": [
        "#Faça um Programa que peça as 4 notas bimestrais e mostre a média.\n",
        "n1b1 = float(input('Informe a primeira nova do B1º: '))\n",
        "n2b1 = float(input('Informe a segunda nova do B1º: '))\n",
        "n1b2 = float(input('Informe a primeira nova do B2º: '))\n",
        "n2b2 = float(input('Informe a segunda nova do B2º: '))\n",
        "medial = (n1b1 + n2b1 + n2b2 + n2b2) /4\n",
        "print(f\"As notas \\n 1 - B1 {n1b1} \\n 2 - B1 {n2b1} \\n 1 - B2 {n1b2} \\n 2 - B2 {n2b2} \\n média {medial}\")\n"
      ],
      "metadata": {
        "id": "eF0BKZvgshhl"
      },
      "execution_count": null,
      "outputs": []
    },
    {
      "cell_type": "code",
      "source": [
        "#Faça um Programa que converta metros para centímetros.\n",
        "dist = float(input('Informe uma distância em metros: '))\n",
        "cnvrt = dist * 100\n",
        "print(f'O valor de {dist}m convertido para centímetros é: {cnvrt}cm')\n"
      ],
      "metadata": {
        "id": "mpup-e9JusoX"
      },
      "execution_count": null,
      "outputs": []
    },
    {
      "cell_type": "code",
      "source": [
        "#Faça um Programa que peça o raio de um círculo, calcule e mostre sua área.\n",
        "r = float(input('Informe o raio da circunferência: '))\n",
        "calc = 3.14 * r**2\n",
        "print(f\"A área do círculo com raio {r} é {calc}\")"
      ],
      "metadata": {
        "id": "dCsmCvkpwRrp"
      },
      "execution_count": null,
      "outputs": []
    },
    {
      "cell_type": "code",
      "source": [
        "#Faça um Programa que calcule a área de um quadrado, em seguida mostre o dobro desta área para o usuário.\n",
        "lquad = int(input(\"Informe o lado do quadrado em metros: \"))\n",
        "a = lquad**2\n",
        "print(f'A área do quadrado com lados {lquad} é :{a}m² e o dobro desta área é {a*2}m².')"
      ],
      "metadata": {
        "id": "za6QgwAqxX6h"
      },
      "execution_count": null,
      "outputs": []
    },
    {
      "cell_type": "code",
      "source": [
        "#Faça um Programa que pergunte quanto você ganha por hora e o número de horas trabalhadas no mês. Calcule e mostre o total do seu salário no referido mês.\n",
        "salh = float(input('Informe o valor por hora que você recebe: '))\n",
        "hrtrab = int(input('Informe a quantidade de horas trabalhadas: '))\n",
        "stotal = salh*hrtrab\n",
        "print(f'O salário de horas trabalhadas:{hrtrab} e valor por horas {salh} é {stotal}')"
      ],
      "metadata": {
        "id": "FLMOA3gvzE6H"
      },
      "execution_count": null,
      "outputs": []
    },
    {
      "cell_type": "code",
      "source": [
        "#Faça um Programa que peça a temperatura em graus Fahrenheit, transforme e mostre a temperatura em graus Celsius.\n",
        "#C = 5 * ((F-32) / 9).\n",
        "tf = float(input('Informe a temperatura em Fahrenheit:'))\n",
        "caltemp = 5* ((tf-32)/9)\n",
        "print(f'A temperatura em Fahrenheit {tf} convertida para celsius é: {caltemp}')"
      ],
      "metadata": {
        "id": "4N1dYwzV0YNg"
      },
      "execution_count": null,
      "outputs": []
    },
    {
      "cell_type": "code",
      "source": [
        "#Faça um Programa que peça a temperatura em graus Celsius, transforme e mostre em graus Fahrenheit.\n",
        "tc = float(input('Informe a temperatura em Celsius:'))\n",
        "caltemp = (tc *9/5) + 32\n",
        "print(f'A temperatura em Celsius {tc} convertida para Fahrenheit é: {caltemp}')"
      ],
      "metadata": {
        "id": "KUWt538g1NOI"
      },
      "execution_count": null,
      "outputs": []
    }
  ]
}